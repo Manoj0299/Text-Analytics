{
 "cells": [
  {
   "cell_type": "code",
   "execution_count": 100,
   "metadata": {},
   "outputs": [],
   "source": [
    "import nltk"
   ]
  },
  {
   "cell_type": "code",
   "execution_count": 145,
   "metadata": {},
   "outputs": [
    {
     "data": {
      "text/plain": [
       "\"If you consider naming your baby manoj we recommend you take note of the special meaning and history of the name as your baby’s name will play a big role in its life and your baby will hear it spoken every day. searching for a name is a very important and fun process as it’s the very first gift you will give to your baby.Many people believe that the name can affect success in life, through their children's working career and other circumstances, so they choose more “respectable” names or name meanings as they believe that the name meaning reflects the personality of the child.\""
      ]
     },
     "execution_count": 145,
     "metadata": {},
     "output_type": "execute_result"
    }
   ],
   "source": [
    "\"If you consider naming your baby manoj we recommend you take note of the special meaning and history of the name as your baby’s name will play a big role in its life and your baby will hear it spoken every day. searching for a name is a very important and fun process as it’s the very first gift you will give to your baby.Many people believe that the name can affect success in life, through their children's working career and other circumstances, so they choose more “respectable” names or name meanings as they believe that the name meaning reflects the personality of the child.\""
   ]
  },
  {
   "cell_type": "code",
   "execution_count": 146,
   "metadata": {},
   "outputs": [
    {
     "data": {
      "text/plain": [
       "\"IF YOU CONSIDER NAMING YOUR BABY MANOJ WE RECOMMEND YOU TAKE NOTE OF THE SPECIAL MEANING AND HISTORY OF THE NAME AS YOUR BABY’S NAME WILL PLAY A BIG ROLE IN ITS LIFE AND YOUR BABY WILL HEAR IT SPOKEN EVERY DAY. SEARCHING FOR A NAME IS A VERY IMPORTANT AND FUN PROCESS AS IT’S THE VERY FIRST GIFT YOU WILL GIVE TO YOUR BABY. MANY PEOPLE BELIEVE THAT THE NAME CAN AFFECT SUCCESS IN LIFE, THROUGH THEIR CHILDREN'S WORKING CAREER AND OTHER CIRCUMSTANCES, SO THEY CHOOSE MORE “RESPECTABLE” NAMES OR NAME MEANINGS AS THEY BELIEVE THAT THE NAME MEANING REFLECTS THE PERSONALITY OF THE CHILD.\""
      ]
     },
     "execution_count": 146,
     "metadata": {},
     "output_type": "execute_result"
    }
   ],
   "source": [
    "manoj.upper()"
   ]
  },
  {
   "cell_type": "code",
   "execution_count": 147,
   "metadata": {},
   "outputs": [
    {
     "data": {
      "text/plain": [
       "\"if you consider naming your baby manoj we recommend you take note of the special meaning and history of the name as your baby’s name will play a big role in its life and your baby will hear it spoken every day. searching for a name is a very important and fun process as it’s the very first gift you will give to your baby. many people believe that the name can affect success in life, through their children's working career and other circumstances, so they choose more “respectable” names or name meanings as they believe that the name meaning reflects the personality of the child.\""
      ]
     },
     "execution_count": 147,
     "metadata": {},
     "output_type": "execute_result"
    }
   ],
   "source": [
    "manoj.lower()"
   ]
  },
  {
   "cell_type": "code",
   "execution_count": 148,
   "metadata": {},
   "outputs": [],
   "source": [
    "text=manoj.strip()"
   ]
  },
  {
   "cell_type": "code",
   "execution_count": 155,
   "metadata": {},
   "outputs": [],
   "source": [
    "import string"
   ]
  },
  {
   "cell_type": "code",
   "execution_count": 156,
   "metadata": {},
   "outputs": [
    {
     "name": "stdout",
     "output_type": "stream",
     "text": [
      "!\"#$%&'()*+,-./:;<=>?@[\\]^_`{|}~\n"
     ]
    }
   ],
   "source": [
    "print(string.punctuation)"
   ]
  },
  {
   "cell_type": "code",
   "execution_count": 157,
   "metadata": {},
   "outputs": [],
   "source": [
    "text_p=\"\".join([char for char in text if char not in string.punctuation])"
   ]
  },
  {
   "cell_type": "code",
   "execution_count": 158,
   "metadata": {},
   "outputs": [
    {
     "data": {
      "text/plain": [
       "'If you consider naming your baby Manoj we recommend you take note of the special meaning and history of the name as your baby’s name will play a big role in its life and your baby will hear it spoken every day Searching for a name is a very important and fun process as it’s the very first gift you will give to your baby Many people believe that the name can affect success in life through their childrens working career and other circumstances so they choose more “respectable” names or name meanings as they believe that the name meaning reflects the personality of the child'"
      ]
     },
     "execution_count": 158,
     "metadata": {},
     "output_type": "execute_result"
    }
   ],
   "source": [
    "text_p"
   ]
  },
  {
   "cell_type": "code",
   "execution_count": 159,
   "metadata": {},
   "outputs": [
    {
     "data": {
      "text/plain": [
       "'IfyouconsidernamingyourbabyManojwerecommendyoutakenoteofthespecialmeaningandhistoryofthenameasyourbaby’snamewillplayabigroleinitslifeandyourbabywillhearitspokeneverydaySearchingforanameisaveryimportantandfunprocessasit’stheveryfirstgiftyouwillgivetoyourbabyManypeoplebelievethatthenamecanaffectsuccessinlifethroughtheirchildrensworkingcareerandothercircumstancessotheychoosemore“respectable”namesornamemeaningsastheybelievethatthenamemeaningreflectsthepersonalityofthechild'"
      ]
     },
     "execution_count": 159,
     "metadata": {},
     "output_type": "execute_result"
    }
   ],
   "source": [
    "text_p.replace(\" \",\"\")"
   ]
  },
  {
   "cell_type": "code",
   "execution_count": 160,
   "metadata": {},
   "outputs": [],
   "source": [
    "from nltk import word_tokenize"
   ]
  },
  {
   "cell_type": "code",
   "execution_count": 161,
   "metadata": {},
   "outputs": [
    {
     "name": "stderr",
     "output_type": "stream",
     "text": [
      "[nltk_data] Downloading package punkt to\n",
      "[nltk_data]     C:\\Users\\MONOJ\\AppData\\Roaming\\nltk_data...\n",
      "[nltk_data]   Package punkt is already up-to-date!\n"
     ]
    },
    {
     "data": {
      "text/plain": [
       "True"
      ]
     },
     "execution_count": 161,
     "metadata": {},
     "output_type": "execute_result"
    }
   ],
   "source": [
    "nltk.download('punkt')"
   ]
  },
  {
   "cell_type": "code",
   "execution_count": 162,
   "metadata": {},
   "outputs": [],
   "source": [
    "yyy=word_tokenize(text_p)"
   ]
  },
  {
   "cell_type": "code",
   "execution_count": 163,
   "metadata": {},
   "outputs": [
    {
     "data": {
      "text/plain": [
       "['If',\n",
       " 'you',\n",
       " 'consider',\n",
       " 'naming',\n",
       " 'your',\n",
       " 'baby',\n",
       " 'Manoj',\n",
       " 'we',\n",
       " 'recommend',\n",
       " 'you',\n",
       " 'take',\n",
       " 'note',\n",
       " 'of',\n",
       " 'the',\n",
       " 'special',\n",
       " 'meaning',\n",
       " 'and',\n",
       " 'history',\n",
       " 'of',\n",
       " 'the',\n",
       " 'name',\n",
       " 'as',\n",
       " 'your',\n",
       " 'baby',\n",
       " '’',\n",
       " 's',\n",
       " 'name',\n",
       " 'will',\n",
       " 'play',\n",
       " 'a',\n",
       " 'big',\n",
       " 'role',\n",
       " 'in',\n",
       " 'its',\n",
       " 'life',\n",
       " 'and',\n",
       " 'your',\n",
       " 'baby',\n",
       " 'will',\n",
       " 'hear',\n",
       " 'it',\n",
       " 'spoken',\n",
       " 'every',\n",
       " 'day',\n",
       " 'Searching',\n",
       " 'for',\n",
       " 'a',\n",
       " 'name',\n",
       " 'is',\n",
       " 'a',\n",
       " 'very',\n",
       " 'important',\n",
       " 'and',\n",
       " 'fun',\n",
       " 'process',\n",
       " 'as',\n",
       " 'it',\n",
       " '’',\n",
       " 's',\n",
       " 'the',\n",
       " 'very',\n",
       " 'first',\n",
       " 'gift',\n",
       " 'you',\n",
       " 'will',\n",
       " 'give',\n",
       " 'to',\n",
       " 'your',\n",
       " 'baby',\n",
       " 'Many',\n",
       " 'people',\n",
       " 'believe',\n",
       " 'that',\n",
       " 'the',\n",
       " 'name',\n",
       " 'can',\n",
       " 'affect',\n",
       " 'success',\n",
       " 'in',\n",
       " 'life',\n",
       " 'through',\n",
       " 'their',\n",
       " 'childrens',\n",
       " 'working',\n",
       " 'career',\n",
       " 'and',\n",
       " 'other',\n",
       " 'circumstances',\n",
       " 'so',\n",
       " 'they',\n",
       " 'choose',\n",
       " 'more',\n",
       " '“',\n",
       " 'respectable',\n",
       " '”',\n",
       " 'names',\n",
       " 'or',\n",
       " 'name',\n",
       " 'meanings',\n",
       " 'as',\n",
       " 'they',\n",
       " 'believe',\n",
       " 'that',\n",
       " 'the',\n",
       " 'name',\n",
       " 'meaning',\n",
       " 'reflects',\n",
       " 'the',\n",
       " 'personality',\n",
       " 'of',\n",
       " 'the',\n",
       " 'child']"
      ]
     },
     "execution_count": 163,
     "metadata": {},
     "output_type": "execute_result"
    }
   ],
   "source": [
    "yyy"
   ]
  },
  {
   "cell_type": "code",
   "execution_count": 164,
   "metadata": {},
   "outputs": [],
   "source": [
    "from nltk.corpus import stopwords"
   ]
  },
  {
   "cell_type": "code",
   "execution_count": 165,
   "metadata": {},
   "outputs": [
    {
     "name": "stderr",
     "output_type": "stream",
     "text": [
      "[nltk_data] Downloading package stopwords to\n",
      "[nltk_data]     C:\\Users\\MONOJ\\AppData\\Roaming\\nltk_data...\n",
      "[nltk_data]   Package stopwords is already up-to-date!\n"
     ]
    },
    {
     "data": {
      "text/plain": [
       "True"
      ]
     },
     "execution_count": 165,
     "metadata": {},
     "output_type": "execute_result"
    }
   ],
   "source": [
    "nltk.download('stopwords')"
   ]
  },
  {
   "cell_type": "code",
   "execution_count": 166,
   "metadata": {},
   "outputs": [],
   "source": [
    "stopword=stopwords.words('english')"
   ]
  },
  {
   "cell_type": "code",
   "execution_count": 167,
   "metadata": {},
   "outputs": [
    {
     "data": {
      "text/plain": [
       "['i',\n",
       " 'me',\n",
       " 'my',\n",
       " 'myself',\n",
       " 'we',\n",
       " 'our',\n",
       " 'ours',\n",
       " 'ourselves',\n",
       " 'you',\n",
       " \"you're\",\n",
       " \"you've\",\n",
       " \"you'll\",\n",
       " \"you'd\",\n",
       " 'your',\n",
       " 'yours',\n",
       " 'yourself',\n",
       " 'yourselves',\n",
       " 'he',\n",
       " 'him',\n",
       " 'his',\n",
       " 'himself',\n",
       " 'she',\n",
       " \"she's\",\n",
       " 'her',\n",
       " 'hers',\n",
       " 'herself',\n",
       " 'it',\n",
       " \"it's\",\n",
       " 'its',\n",
       " 'itself',\n",
       " 'they',\n",
       " 'them',\n",
       " 'their',\n",
       " 'theirs',\n",
       " 'themselves',\n",
       " 'what',\n",
       " 'which',\n",
       " 'who',\n",
       " 'whom',\n",
       " 'this',\n",
       " 'that',\n",
       " \"that'll\",\n",
       " 'these',\n",
       " 'those',\n",
       " 'am',\n",
       " 'is',\n",
       " 'are',\n",
       " 'was',\n",
       " 'were',\n",
       " 'be',\n",
       " 'been',\n",
       " 'being',\n",
       " 'have',\n",
       " 'has',\n",
       " 'had',\n",
       " 'having',\n",
       " 'do',\n",
       " 'does',\n",
       " 'did',\n",
       " 'doing',\n",
       " 'a',\n",
       " 'an',\n",
       " 'the',\n",
       " 'and',\n",
       " 'but',\n",
       " 'if',\n",
       " 'or',\n",
       " 'because',\n",
       " 'as',\n",
       " 'until',\n",
       " 'while',\n",
       " 'of',\n",
       " 'at',\n",
       " 'by',\n",
       " 'for',\n",
       " 'with',\n",
       " 'about',\n",
       " 'against',\n",
       " 'between',\n",
       " 'into',\n",
       " 'through',\n",
       " 'during',\n",
       " 'before',\n",
       " 'after',\n",
       " 'above',\n",
       " 'below',\n",
       " 'to',\n",
       " 'from',\n",
       " 'up',\n",
       " 'down',\n",
       " 'in',\n",
       " 'out',\n",
       " 'on',\n",
       " 'off',\n",
       " 'over',\n",
       " 'under',\n",
       " 'again',\n",
       " 'further',\n",
       " 'then',\n",
       " 'once',\n",
       " 'here',\n",
       " 'there',\n",
       " 'when',\n",
       " 'where',\n",
       " 'why',\n",
       " 'how',\n",
       " 'all',\n",
       " 'any',\n",
       " 'both',\n",
       " 'each',\n",
       " 'few',\n",
       " 'more',\n",
       " 'most',\n",
       " 'other',\n",
       " 'some',\n",
       " 'such',\n",
       " 'no',\n",
       " 'nor',\n",
       " 'not',\n",
       " 'only',\n",
       " 'own',\n",
       " 'same',\n",
       " 'so',\n",
       " 'than',\n",
       " 'too',\n",
       " 'very',\n",
       " 's',\n",
       " 't',\n",
       " 'can',\n",
       " 'will',\n",
       " 'just',\n",
       " 'don',\n",
       " \"don't\",\n",
       " 'should',\n",
       " \"should've\",\n",
       " 'now',\n",
       " 'd',\n",
       " 'll',\n",
       " 'm',\n",
       " 'o',\n",
       " 're',\n",
       " 've',\n",
       " 'y',\n",
       " 'ain',\n",
       " 'aren',\n",
       " \"aren't\",\n",
       " 'couldn',\n",
       " \"couldn't\",\n",
       " 'didn',\n",
       " \"didn't\",\n",
       " 'doesn',\n",
       " \"doesn't\",\n",
       " 'hadn',\n",
       " \"hadn't\",\n",
       " 'hasn',\n",
       " \"hasn't\",\n",
       " 'haven',\n",
       " \"haven't\",\n",
       " 'isn',\n",
       " \"isn't\",\n",
       " 'ma',\n",
       " 'mightn',\n",
       " \"mightn't\",\n",
       " 'mustn',\n",
       " \"mustn't\",\n",
       " 'needn',\n",
       " \"needn't\",\n",
       " 'shan',\n",
       " \"shan't\",\n",
       " 'shouldn',\n",
       " \"shouldn't\",\n",
       " 'wasn',\n",
       " \"wasn't\",\n",
       " 'weren',\n",
       " \"weren't\",\n",
       " 'won',\n",
       " \"won't\",\n",
       " 'wouldn',\n",
       " \"wouldn't\"]"
      ]
     },
     "execution_count": 167,
     "metadata": {},
     "output_type": "execute_result"
    }
   ],
   "source": [
    "stopword"
   ]
  },
  {
   "cell_type": "code",
   "execution_count": 168,
   "metadata": {},
   "outputs": [],
   "source": [
    "new=[word for word in xxx if word not in stopword]"
   ]
  },
  {
   "cell_type": "code",
   "execution_count": 169,
   "metadata": {},
   "outputs": [
    {
     "data": {
      "text/plain": [
       "['If',\n",
       " 'consider',\n",
       " 'naming',\n",
       " 'baby',\n",
       " 'Manoj',\n",
       " 'recommend',\n",
       " 'take',\n",
       " 'note',\n",
       " 'special',\n",
       " 'meaning',\n",
       " 'history',\n",
       " 'name',\n",
       " 'baby',\n",
       " '’',\n",
       " 'name',\n",
       " 'play',\n",
       " 'big',\n",
       " 'role',\n",
       " 'life',\n",
       " 'baby',\n",
       " 'hear',\n",
       " 'spoken',\n",
       " 'every',\n",
       " 'day',\n",
       " 'Searching',\n",
       " 'name',\n",
       " 'important',\n",
       " 'fun',\n",
       " 'process',\n",
       " '’',\n",
       " 'first',\n",
       " 'gift',\n",
       " 'give',\n",
       " 'baby',\n",
       " 'Many',\n",
       " 'people',\n",
       " 'believe',\n",
       " 'name',\n",
       " 'affect',\n",
       " 'success',\n",
       " 'life',\n",
       " 'childrens',\n",
       " 'working',\n",
       " 'career',\n",
       " 'circumstances',\n",
       " 'choose',\n",
       " '“',\n",
       " 'respectable',\n",
       " '”',\n",
       " 'names',\n",
       " 'name',\n",
       " 'meanings',\n",
       " 'believe',\n",
       " 'name',\n",
       " 'meaning',\n",
       " 'reflects',\n",
       " 'personality',\n",
       " 'child']"
      ]
     },
     "execution_count": 169,
     "metadata": {},
     "output_type": "execute_result"
    }
   ],
   "source": [
    "new"
   ]
  },
  {
   "cell_type": "code",
   "execution_count": 170,
   "metadata": {},
   "outputs": [],
   "source": [
    "from nltk.stem.porter import PorterStemmer"
   ]
  },
  {
   "cell_type": "code",
   "execution_count": 171,
   "metadata": {},
   "outputs": [],
   "source": [
    "porter=PorterStemmer()"
   ]
  },
  {
   "cell_type": "code",
   "execution_count": 172,
   "metadata": {},
   "outputs": [],
   "source": [
    "stemming=[porter.stem(words) for words in new]"
   ]
  },
  {
   "cell_type": "code",
   "execution_count": 173,
   "metadata": {},
   "outputs": [
    {
     "data": {
      "text/plain": [
       "['If',\n",
       " 'consid',\n",
       " 'name',\n",
       " 'babi',\n",
       " 'manoj',\n",
       " 'recommend',\n",
       " 'take',\n",
       " 'note',\n",
       " 'special',\n",
       " 'mean',\n",
       " 'histori',\n",
       " 'name',\n",
       " 'babi',\n",
       " '’',\n",
       " 'name',\n",
       " 'play',\n",
       " 'big',\n",
       " 'role',\n",
       " 'life',\n",
       " 'babi',\n",
       " 'hear',\n",
       " 'spoken',\n",
       " 'everi',\n",
       " 'day',\n",
       " 'search',\n",
       " 'name',\n",
       " 'import',\n",
       " 'fun',\n",
       " 'process',\n",
       " '’',\n",
       " 'first',\n",
       " 'gift',\n",
       " 'give',\n",
       " 'babi',\n",
       " 'mani',\n",
       " 'peopl',\n",
       " 'believ',\n",
       " 'name',\n",
       " 'affect',\n",
       " 'success',\n",
       " 'life',\n",
       " 'children',\n",
       " 'work',\n",
       " 'career',\n",
       " 'circumst',\n",
       " 'choos',\n",
       " '“',\n",
       " 'respect',\n",
       " '”',\n",
       " 'name',\n",
       " 'name',\n",
       " 'mean',\n",
       " 'believ',\n",
       " 'name',\n",
       " 'mean',\n",
       " 'reflect',\n",
       " 'person',\n",
       " 'child']"
      ]
     },
     "execution_count": 173,
     "metadata": {},
     "output_type": "execute_result"
    }
   ],
   "source": [
    "stemming"
   ]
  },
  {
   "cell_type": "code",
   "execution_count": 174,
   "metadata": {},
   "outputs": [
    {
     "name": "stdout",
     "output_type": "stream",
     "text": [
      "If\n",
      "consid\n",
      "name\n",
      "babi\n",
      "manoj\n",
      "recommend\n",
      "take\n",
      "note\n",
      "special\n",
      "mean\n",
      "histori\n",
      "name\n",
      "babi\n",
      "’\n",
      "name\n",
      "play\n",
      "big\n",
      "role\n",
      "life\n",
      "babi\n",
      "hear\n",
      "spoken\n",
      "everi\n",
      "day\n",
      "search\n",
      "name\n",
      "import\n",
      "fun\n",
      "process\n",
      "’\n",
      "first\n",
      "gift\n",
      "give\n",
      "babi\n",
      "mani\n",
      "peopl\n",
      "believ\n",
      "name\n",
      "affect\n",
      "success\n",
      "life\n",
      "children\n",
      "work\n",
      "career\n",
      "circumst\n",
      "choos\n",
      "“\n",
      "respect\n",
      "”\n",
      "name\n",
      "name\n",
      "mean\n",
      "believ\n",
      "name\n",
      "mean\n",
      "reflect\n",
      "person\n",
      "child\n"
     ]
    }
   ],
   "source": [
    "for word in new:\n",
    "    print(porter.stem(word))"
   ]
  },
  {
   "cell_type": "code",
   "execution_count": 175,
   "metadata": {},
   "outputs": [],
   "source": [
    "from nltk.stem import WordNetLemmatizer"
   ]
  },
  {
   "cell_type": "code",
   "execution_count": 176,
   "metadata": {},
   "outputs": [
    {
     "name": "stderr",
     "output_type": "stream",
     "text": [
      "[nltk_data] Downloading package wordnet to\n",
      "[nltk_data]     C:\\Users\\MONOJ\\AppData\\Roaming\\nltk_data...\n",
      "[nltk_data]   Package wordnet is already up-to-date!\n"
     ]
    },
    {
     "data": {
      "text/plain": [
       "True"
      ]
     },
     "execution_count": 176,
     "metadata": {},
     "output_type": "execute_result"
    }
   ],
   "source": [
    "nltk.download('wordnet')"
   ]
  },
  {
   "cell_type": "code",
   "execution_count": 177,
   "metadata": {},
   "outputs": [],
   "source": [
    "lemmatizer=WordNetLemmatizer()"
   ]
  },
  {
   "cell_type": "code",
   "execution_count": 178,
   "metadata": {},
   "outputs": [],
   "source": [
    "lemma=[]"
   ]
  },
  {
   "cell_type": "code",
   "execution_count": 179,
   "metadata": {},
   "outputs": [
    {
     "name": "stdout",
     "output_type": "stream",
     "text": [
      "If\n",
      "consider\n",
      "naming\n",
      "baby\n",
      "Manoj\n",
      "recommend\n",
      "take\n",
      "note\n",
      "special\n",
      "meaning\n",
      "history\n",
      "name\n",
      "baby\n",
      "’\n",
      "name\n",
      "play\n",
      "big\n",
      "role\n",
      "life\n",
      "baby\n",
      "hear\n",
      "spoken\n",
      "every\n",
      "day\n",
      "Searching\n",
      "name\n",
      "important\n",
      "fun\n",
      "process\n",
      "’\n",
      "first\n",
      "gift\n",
      "give\n",
      "baby\n",
      "Many\n",
      "people\n",
      "believe\n",
      "name\n",
      "affect\n",
      "success\n",
      "life\n",
      "childrens\n",
      "working\n",
      "career\n",
      "circumstance\n",
      "choose\n",
      "“\n",
      "respectable\n",
      "”\n",
      "name\n",
      "name\n",
      "meaning\n",
      "believe\n",
      "name\n",
      "meaning\n",
      "reflects\n",
      "personality\n",
      "child\n"
     ]
    }
   ],
   "source": [
    "for word in new:\n",
    "    finalwording=lemma.append(lemmatizer.lemmatize(word))\n",
    "    print(lemmatizer.lemmatize(word))"
   ]
  }
 ],
 "metadata": {
  "kernelspec": {
   "display_name": "Python 3",
   "language": "python",
   "name": "python3"
  },
  "language_info": {
   "codemirror_mode": {
    "name": "ipython",
    "version": 3
   },
   "file_extension": ".py",
   "mimetype": "text/x-python",
   "name": "python",
   "nbconvert_exporter": "python",
   "pygments_lexer": "ipython3",
   "version": "3.8.5"
  }
 },
 "nbformat": 4,
 "nbformat_minor": 2
}
